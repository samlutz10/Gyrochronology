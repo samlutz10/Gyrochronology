{
 "cells": [
  {
   "cell_type": "markdown",
   "id": "8b76defe",
   "metadata": {},
   "source": [
    "## Import Packages"
   ]
  },
  {
   "cell_type": "code",
   "execution_count": null,
   "id": "1605f23d",
   "metadata": {},
   "outputs": [],
   "source": [
    "import pandas as pd\n",
    "import numpy as np\n",
    "import matplotlib.pyplot as plt\n",
    "from sklearn import tree\n",
    "from sklearn.tree import DecisionTreeClassifier\n",
    "from sklearn.metrics import accuracy_score"
   ]
  },
  {
   "cell_type": "markdown",
   "id": "6809e321",
   "metadata": {},
   "source": [
    "## Data Preprocessing"
   ]
  },
  {
   "cell_type": "markdown",
   "id": "322adc79",
   "metadata": {},
   "source": [
    "### Buzasi Data"
   ]
  },
  {
   "cell_type": "markdown",
   "id": "f22a4f3b",
   "metadata": {},
   "source": [
    "#### Import Tar file and Extract Postage Stamps "
   ]
  },
  {
   "cell_type": "code",
   "execution_count": null,
   "id": "72dcb4db",
   "metadata": {},
   "outputs": [],
   "source": [
    "import tarfile\n",
    "my_tar = tarfile.open('C:/Users/ptgri/tess_postage_stamps.tar')\n",
    "my_tar.extractall('./my_folder')\n",
    "my_tar.close()"
   ]
  },
  {
   "cell_type": "markdown",
   "id": "56fc9789",
   "metadata": {},
   "source": [
    "#### Write Postage Stamps to .txt file "
   ]
  },
  {
   "cell_type": "code",
   "execution_count": null,
   "id": "bf99ce34",
   "metadata": {},
   "outputs": [],
   "source": [
    "import os\n",
    "os.chdir('C:/Users/ptgri/my_folder')\n",
    "\n",
    "with open(\"Buzasi.txt\", \"w\") as outfile:\n",
    "    def write_text_file(file_path):\n",
    "        with open(file_path) as f:\n",
    "            contents = f.read()\n",
    "            outfile.write(contents)\n",
    "            outfile.write('\\n')\n",
    "    for file in os.listdir():\n",
    "        if file.endswith(\".txt\"):\n",
    "            file_path = f\"{'C:/Users/ptgri/my_folder'}\\{file}\"\n",
    "            write_text_file(file_path)"
   ]
  },
  {
   "cell_type": "markdown",
   "id": "868fc4cc",
   "metadata": {},
   "source": [
    "#### Import and process .txt file as .csv file"
   ]
  },
  {
   "cell_type": "code",
   "execution_count": null,
   "id": "6d7c1e59",
   "metadata": {},
   "outputs": [],
   "source": [
    "Buzasi = pd.read_csv('C:/Users/ptgri/my_folder/Buzasi.txt',header=None, sep=' ', quotechar='\"', skip_blank_lines=False)\n",
    "Buzasi = Buzasi.iloc[:49876]\n",
    "Buzasi[['1','2','3','4','5','6','7','8','9','10','11','12','13','14','15','16','17','18','19','20','21','22','23','24','25']] = (Buzasi[0].astype(str).str.split(',', expand=True).astype(float))\n",
    "Buzasi = Buzasi.drop(columns=[0])\n",
    "Buzasi = Buzasi.fillna(0)"
   ]
  },
  {
   "cell_type": "code",
   "execution_count": null,
   "id": "9ffddcb2",
   "metadata": {},
   "outputs": [],
   "source": [
    "Buzasi = pd.read_csv('C:/Users/ptgri/test.csv')"
   ]
  },
  {
   "cell_type": "markdown",
   "id": "f1c3f39c",
   "metadata": {},
   "source": [
    "#### Zero-padding to ensure images have equal dimensions, then puts each image in a single row, and creates a NumPy array   "
   ]
  },
  {
   "cell_type": "code",
   "execution_count": null,
   "id": "2b9855a5",
   "metadata": {},
   "outputs": [],
   "source": [
    "padded_matrix = []\n",
    "i = 0\n",
    "j = 0\n",
    "k = 0\n",
    "N = 3912\n",
    "M = 3887\n",
    "#change 3 to 'N' once Buzasi sends the images needed to be redone\n",
    "for k in range(M):\n",
    "    count = Buzasi.groupby((Buzasi['1'] == 0).cumsum()).cumcount(ascending=False)+1\n",
    "    j = i + count[i]\n",
    "    shape = np.shape(Buzasi.iloc[i:j])\n",
    "    padded_array = np.zeros((27, 25))\n",
    "    padded_array[:shape[0],:shape[1]] = Buzasi.iloc[i:j]\n",
    "    padded_matrix.append(padded_array)\n",
    "    i = j + 1 \n",
    "    k = k + 1\n",
    "padded_matrix = np.array(padded_matrix)\n",
    "padded_matrix = padded_matrix.reshape(M,27*25)\n",
    "X = padded_matrix[:2542]"
   ]
  },
  {
   "cell_type": "markdown",
   "id": "215c304a",
   "metadata": {},
   "source": [
    "### Oswalt Data"
   ]
  },
  {
   "cell_type": "code",
   "execution_count": null,
   "id": "691bd949",
   "metadata": {},
   "outputs": [],
   "source": [
    "df = pd.read_excel('C:/Users/ptgri/Downloads/TESS targets Vizier physical data.xlsx',skiprows=2)\n",
    "df = df.iloc[: , 49:]"
   ]
  },
  {
   "cell_type": "code",
   "execution_count": null,
   "id": "2a0c9aaf",
   "metadata": {},
   "outputs": [],
   "source": [
    "bad_image = [110376, 11490327, 27014182, 54926434, 87480403, 94367286, 105438311, 125802413, 267624955, \n",
    "             298017097, 302158903, 332680754, 354825513, 373139866, 382422098, 382422180, 399665349, \n",
    "             410205809, 416233532, 427733653, 441709021, 441804568, 443616529, 447823435, 458343311]\n",
    "df = df[df.TIC.isin(bad_image) == False]"
   ]
  },
  {
   "cell_type": "code",
   "execution_count": null,
   "id": "429f0b08",
   "metadata": {},
   "outputs": [],
   "source": [
    "df['ANR'] = \"\"\n",
    "df.loc[df['SNR'] >= 4.0, 'ANR'] = 1\n",
    "df.loc[df['SNR'] < 4.0, 'ANR'] = 0"
   ]
  },
  {
   "cell_type": "code",
   "execution_count": null,
   "id": "8b70dc89",
   "metadata": {},
   "outputs": [],
   "source": [
    "df['Peaks'] = 1\n",
    "df.loc[df['Mult [M#]'].str.contains('M', na=False), 'Peaks'] = 0"
   ]
  },
  {
   "cell_type": "code",
   "execution_count": null,
   "id": "d2a89934",
   "metadata": {},
   "outputs": [],
   "source": [
    "df['Rotators'] = 1\n",
    "df.loc[df['Rot [R]'].str.contains('R', na=False), 'Rotators'] = 0"
   ]
  },
  {
   "cell_type": "code",
   "execution_count": null,
   "id": "806b1849",
   "metadata": {},
   "outputs": [],
   "source": [
    "df['Pulsators'] = 1\n",
    "df.loc[df['Pulse [P]'].str.contains('P', na=False), 'Pulsators'] = 0"
   ]
  },
  {
   "cell_type": "code",
   "execution_count": null,
   "id": "1eb65fcd",
   "metadata": {},
   "outputs": [],
   "source": [
    "df['Flares'] = 1\n",
    "df.loc[df['Flare [F]'].str.contains('F', na=False), 'Flares'] = 0"
   ]
  },
  {
   "cell_type": "code",
   "execution_count": null,
   "id": "51fd0a07",
   "metadata": {},
   "outputs": [],
   "source": [
    "df['Eclipses'] = 1\n",
    "df.loc[df['Ecl [E]'].str.contains('E', na=False), 'Eclipses'] = 0"
   ]
  },
  {
   "cell_type": "code",
   "execution_count": null,
   "id": "f9ceb33b",
   "metadata": {},
   "outputs": [],
   "source": [
    "df['Discs'] = 1\n",
    "df.loc[df['Disc [D]'].str.contains('D', na=False), 'Discs'] = 0"
   ]
  },
  {
   "cell_type": "code",
   "execution_count": null,
   "id": "a552b75f",
   "metadata": {},
   "outputs": [],
   "source": [
    "df['Blends'] = 1\n",
    "df.loc[df['Blend [B]'] == 'B', 'Blends'] = 0\n",
    "df.loc[df['Blend [B]'] == '?', 'Blends'] = 0\n",
    "df.loc[df['Blend [B]'] == 'B?', 'Blends'] = 0"
   ]
  },
  {
   "cell_type": "code",
   "execution_count": null,
   "id": "edc2cf11",
   "metadata": {},
   "outputs": [],
   "source": [
    "df['Trails'] = 1\n",
    "df.loc[df['Trail [T]'] == 'T', 'Trails'] = 0\n",
    "df.loc[df['Trail [T]'] == '?', 'Trails'] = 0\n",
    "df.loc[df['Trail [T]'] == 'T?', 'Trails'] = 0"
   ]
  },
  {
   "cell_type": "code",
   "execution_count": null,
   "id": "7ecd8540",
   "metadata": {},
   "outputs": [],
   "source": [
    "df['Sky Background'] = 1\n",
    "df.loc[df['Sky [S]'] == 'S', 'Sky Background'] = 0\n",
    "df.loc[df['Sky [S]'] == '?', 'Sky Background'] = 0\n",
    "df.loc[df['Sky [S]'] == 'S?', 'Sky Background'] = 0"
   ]
  },
  {
   "cell_type": "code",
   "execution_count": null,
   "id": "0fde6c3e",
   "metadata": {},
   "outputs": [],
   "source": [
    "df['Aperture'] = 1\n",
    "df.loc[df['Apert [A]'] == 'A', 'Aperture'] = 0\n",
    "df.loc[df['Apert [A]'] == '?', 'Aperture'] = 0\n",
    "df.loc[df['Apert [A]'] == 'A?', 'Aperture'] = 0"
   ]
  },
  {
   "cell_type": "code",
   "execution_count": null,
   "id": "25e7329f",
   "metadata": {},
   "outputs": [],
   "source": [
    "df['Quality'] = \"\"\n",
    "df.loc[df['Redo (X)'] == 'X', 'Quality'] = 0\n",
    "df.loc[df['Redo (X)'] == 'OK', 'Quality'] = 1\n",
    "df.loc[df['Redo (X)'] == 'OK?', 'Quality'] = 1"
   ]
  },
  {
   "cell_type": "code",
   "execution_count": null,
   "id": "1ab8b4c1",
   "metadata": {},
   "outputs": [],
   "source": [
    "df = df.dropna(axis=0, subset=['Redo (X)'])\n",
    "df = df[['TIC','ANR','Peaks','Rotators','Pulsators','Flares','Eclipses','Discs','Blends','Trails','Sky Background','Aperture','Quality']]\n",
    "y = df['Quality'].to_numpy()\n",
    "y = y.astype('int64')"
   ]
  },
  {
   "cell_type": "markdown",
   "id": "6aabd4a7",
   "metadata": {},
   "source": [
    "### Splitting Data"
   ]
  },
  {
   "cell_type": "code",
   "execution_count": null,
   "id": "5fd79cea",
   "metadata": {},
   "outputs": [],
   "source": [
    "from sklearn.model_selection import train_test_split"
   ]
  },
  {
   "cell_type": "code",
   "execution_count": null,
   "id": "20c0dc51",
   "metadata": {},
   "outputs": [],
   "source": [
    "X_train,X_test,y_train,y_test = train_test_split(X,y,test_size = 0.15, stratify = y, random_state = 1)"
   ]
  },
  {
   "cell_type": "markdown",
   "id": "34acc604",
   "metadata": {},
   "source": [
    "## Decision Tree Classifier"
   ]
  },
  {
   "cell_type": "code",
   "execution_count": null,
   "id": "ea575629",
   "metadata": {},
   "outputs": [],
   "source": [
    "clf = tree.DecisionTreeClassifier(random_state = 1)\n",
    "clf.fit(X_train, y_train)"
   ]
  },
  {
   "cell_type": "markdown",
   "id": "0d91fc1b",
   "metadata": {},
   "source": [
    "### Performance on Training Data"
   ]
  },
  {
   "cell_type": "code",
   "execution_count": null,
   "id": "a71df10a",
   "metadata": {},
   "outputs": [],
   "source": [
    "ypred_train = clf.predict(X_train)\n",
    "accuracy_score(y_train,ypred_train)"
   ]
  },
  {
   "cell_type": "markdown",
   "id": "4713bb86",
   "metadata": {},
   "source": [
    "### Performance on Testing Data"
   ]
  },
  {
   "cell_type": "code",
   "execution_count": null,
   "id": "319d5b7f",
   "metadata": {},
   "outputs": [],
   "source": [
    "ypred_test = clf.predict(X_test)\n",
    "accuracy_score(y_test,ypred_test)"
   ]
  },
  {
   "cell_type": "markdown",
   "id": "e90e75d4",
   "metadata": {},
   "source": [
    "### Information on the produced Decision Tree "
   ]
  },
  {
   "cell_type": "code",
   "execution_count": null,
   "id": "07e7442c",
   "metadata": {},
   "outputs": [],
   "source": [
    "print('Tree depth:', clf.get_depth())\n",
    "print('Number of leaves:',clf.get_n_leaves())"
   ]
  },
  {
   "cell_type": "markdown",
   "id": "e581efba",
   "metadata": {},
   "source": [
    "## Improving the Model"
   ]
  },
  {
   "cell_type": "code",
   "execution_count": null,
   "id": "96867f40",
   "metadata": {},
   "outputs": [],
   "source": [
    "X_tr, X_val, y_tr, y_val = train_test_split(X_train, y_train, test_size=0.15, stratify = y_train, random_state=1)"
   ]
  },
  {
   "cell_type": "code",
   "execution_count": null,
   "id": "5e922689",
   "metadata": {},
   "outputs": [],
   "source": [
    "print(X_tr.shape, X_val.shape)"
   ]
  },
  {
   "cell_type": "markdown",
   "id": "fd191edd",
   "metadata": {},
   "source": [
    "### Use Validation Error to select best model"
   ]
  },
  {
   "cell_type": "code",
   "execution_count": null,
   "id": "2abc92a2",
   "metadata": {},
   "outputs": [],
   "source": [
    "size = len(X_tr)\n",
    "choices = np.arange(2,100)\n",
    "per = []\n",
    "for j in choices:\n",
    "    clf = tree.DecisionTreeClassifier(random_state=1, max_leaf_nodes=j)\n",
    "    clf.fit(X_tr,y_tr)\n",
    "    pred = clf.predict(X_val)\n",
    "    error = 1 - accuracy_score(y_val,pred)\n",
    "    per.append(error)"
   ]
  },
  {
   "cell_type": "code",
   "execution_count": null,
   "id": "9043aecd",
   "metadata": {},
   "outputs": [],
   "source": [
    "plt.plot(choices,per)\n",
    "plt.show()"
   ]
  },
  {
   "cell_type": "code",
   "execution_count": null,
   "id": "915a060d",
   "metadata": {},
   "outputs": [],
   "source": [
    "opt_nodes = choices[np.argmin(np.array(per))]\n",
    "plt.plot(choices,per)\n",
    "plt.axvline(x=opt_nodes, color = 'k')\n",
    "plt.title('The best number of max leaves: '+str(opt_nodes),size = 15)\n",
    "plt.xlabel('Maximum number of leaves allowed',size = 12)\n",
    "plt.ylabel('Err(val)',size = 12)\n",
    "plt.show()"
   ]
  },
  {
   "cell_type": "markdown",
   "id": "4def88d3",
   "metadata": {},
   "source": [
    "## Final Model Performance"
   ]
  },
  {
   "cell_type": "code",
   "execution_count": null,
   "id": "7611accd",
   "metadata": {},
   "outputs": [],
   "source": [
    "clf = tree.DecisionTreeClassifier(random_state=1, max_leaf_nodes=opt_nodes)\n",
    "clf.fit(X_train,y_train)"
   ]
  },
  {
   "cell_type": "code",
   "execution_count": null,
   "id": "ba929642",
   "metadata": {},
   "outputs": [],
   "source": [
    "ypred_test = clf.predict(X_test)\n",
    "accuracy_score(y_test,ypred_test)"
   ]
  },
  {
   "cell_type": "code",
   "execution_count": null,
   "id": "60c376fc",
   "metadata": {},
   "outputs": [],
   "source": []
  }
 ],
 "metadata": {
  "kernelspec": {
   "display_name": "Python 3 (ipykernel)",
   "language": "python",
   "name": "python3"
  },
  "language_info": {
   "codemirror_mode": {
    "name": "ipython",
    "version": 3
   },
   "file_extension": ".py",
   "mimetype": "text/x-python",
   "name": "python",
   "nbconvert_exporter": "python",
   "pygments_lexer": "ipython3",
   "version": "3.9.7"
  }
 },
 "nbformat": 4,
 "nbformat_minor": 5
}
